{
 "cells": [
  {
   "cell_type": "code",
   "execution_count": 16,
   "metadata": {},
   "outputs": [],
   "source": [
    "import pandas as pd\n",
    "import numpy as np\n",
    "from datetime import datetime\n",
    "import plotly.express as px\n",
    "import plotly.graph_objects as go\n",
    "import matplotlib.pyplot as plt"
   ]
  },
  {
   "cell_type": "code",
   "execution_count": 17,
   "metadata": {},
   "outputs": [],
   "source": [
    "def read_prediction_file(file_path):\n",
    "    try:\n",
    "        df = pd.read_csv(file_path)\n",
    "        # verify that the file at least has \"True Values\" and \"Predictions\" value columns\n",
    "        if not \"True Values\" in df.columns or not \"Predictions\" in df.columns:\n",
    "            print(df.columns)\n",
    "            raise Exception(\"Archivo no contiene columnas de valores reales y predicciones.\")\n",
    "            \n",
    "        # verify that the file has at least one row\n",
    "        if df.shape[0] < 1:\n",
    "            raise Exception(\"Archivo de pronostico no contiene datos.\")\n",
    "        # verify that the file has the same number of rows in both columns\n",
    "        if df[\"True Values\"].shape[0] != df[\"Predictions\"].shape[0]:\n",
    "            raise Exception(\"Número de filas de valores reales y predicciones no coinciden.\")\n",
    "    except Exception as e:\n",
    "        print(\"ERROR: no se completó la lectura de archivo de pronósticos. {}\".format(e))\n",
    "        return None\n",
    "    return df"
   ]
  },
  {
   "cell_type": "code",
   "execution_count": 18,
   "metadata": {},
   "outputs": [
    {
     "data": {
      "text/html": [
       "<div>\n",
       "<style scoped>\n",
       "    .dataframe tbody tr th:only-of-type {\n",
       "        vertical-align: middle;\n",
       "    }\n",
       "\n",
       "    .dataframe tbody tr th {\n",
       "        vertical-align: top;\n",
       "    }\n",
       "\n",
       "    .dataframe thead th {\n",
       "        text-align: right;\n",
       "    }\n",
       "</style>\n",
       "<table border=\"1\" class=\"dataframe\">\n",
       "  <thead>\n",
       "    <tr style=\"text-align: right;\">\n",
       "      <th></th>\n",
       "      <th>Date</th>\n",
       "      <th>LMCADS03</th>\n",
       "      <th>DXY</th>\n",
       "      <th>COMXCOPR</th>\n",
       "      <th>SPX</th>\n",
       "      <th>BCOM</th>\n",
       "      <th>MXWD</th>\n",
       "      <th>CL1</th>\n",
       "      <th>XAU</th>\n",
       "      <th>XAG</th>\n",
       "      <th>LMCADY RETURN</th>\n",
       "      <th>True Values</th>\n",
       "      <th>LMCADY</th>\n",
       "      <th>Predictions</th>\n",
       "      <th>PREDICTED PRICE</th>\n",
       "      <th>ACTUAL FUTURE PRICE</th>\n",
       "      <th>ERROR</th>\n",
       "      <th>ERROR%</th>\n",
       "      <th>XPCD_CHG</th>\n",
       "      <th>ACT_CHG</th>\n",
       "    </tr>\n",
       "  </thead>\n",
       "  <tbody>\n",
       "    <tr>\n",
       "      <th>0</th>\n",
       "      <td>3/27/2023</td>\n",
       "      <td>8964.0</td>\n",
       "      <td>102.86</td>\n",
       "      <td>15400</td>\n",
       "      <td>3977.53</td>\n",
       "      <td>103.7487</td>\n",
       "      <td>626.52</td>\n",
       "      <td>72.81</td>\n",
       "      <td>1956.67</td>\n",
       "      <td>23.0810</td>\n",
       "      <td>0.004423</td>\n",
       "      <td>-0.003834</td>\n",
       "      <td>8951.25</td>\n",
       "      <td>0.002039</td>\n",
       "      <td>8969.515820</td>\n",
       "      <td>9003.50</td>\n",
       "      <td>33.9842</td>\n",
       "      <td>0.003775</td>\n",
       "      <td>18.27</td>\n",
       "      <td>52.25</td>\n",
       "    </tr>\n",
       "    <tr>\n",
       "      <th>1</th>\n",
       "      <td>3/28/2023</td>\n",
       "      <td>8978.0</td>\n",
       "      <td>102.43</td>\n",
       "      <td>15624</td>\n",
       "      <td>3971.27</td>\n",
       "      <td>104.3620</td>\n",
       "      <td>627.48</td>\n",
       "      <td>73.20</td>\n",
       "      <td>1973.54</td>\n",
       "      <td>23.3340</td>\n",
       "      <td>0.001897</td>\n",
       "      <td>-0.025752</td>\n",
       "      <td>8968.25</td>\n",
       "      <td>0.003347</td>\n",
       "      <td>8998.317366</td>\n",
       "      <td>8917.00</td>\n",
       "      <td>81.3174</td>\n",
       "      <td>0.009119</td>\n",
       "      <td>30.07</td>\n",
       "      <td>-51.25</td>\n",
       "    </tr>\n",
       "    <tr>\n",
       "      <th>2</th>\n",
       "      <td>3/29/2023</td>\n",
       "      <td>9002.5</td>\n",
       "      <td>102.64</td>\n",
       "      <td>16027</td>\n",
       "      <td>4027.81</td>\n",
       "      <td>104.1591</td>\n",
       "      <td>635.30</td>\n",
       "      <td>72.97</td>\n",
       "      <td>1964.70</td>\n",
       "      <td>23.3350</td>\n",
       "      <td>0.004506</td>\n",
       "      <td>-0.025179</td>\n",
       "      <td>9008.75</td>\n",
       "      <td>0.002670</td>\n",
       "      <td>9032.835757</td>\n",
       "      <td>8740.25</td>\n",
       "      <td>292.5858</td>\n",
       "      <td>0.033476</td>\n",
       "      <td>24.09</td>\n",
       "      <td>-268.50</td>\n",
       "    </tr>\n",
       "    <tr>\n",
       "      <th>3</th>\n",
       "      <td>3/30/2023</td>\n",
       "      <td>9001.0</td>\n",
       "      <td>102.14</td>\n",
       "      <td>16278</td>\n",
       "      <td>4050.83</td>\n",
       "      <td>104.3921</td>\n",
       "      <td>639.89</td>\n",
       "      <td>74.37</td>\n",
       "      <td>1980.37</td>\n",
       "      <td>23.9030</td>\n",
       "      <td>-0.000611</td>\n",
       "      <td>-0.022067</td>\n",
       "      <td>9003.25</td>\n",
       "      <td>0.000124</td>\n",
       "      <td>9004.369197</td>\n",
       "      <td>8784.75</td>\n",
       "      <td>219.6192</td>\n",
       "      <td>0.025000</td>\n",
       "      <td>1.12</td>\n",
       "      <td>-218.50</td>\n",
       "    </tr>\n",
       "    <tr>\n",
       "      <th>4</th>\n",
       "      <td>3/31/2023</td>\n",
       "      <td>8993.0</td>\n",
       "      <td>102.51</td>\n",
       "      <td>16543</td>\n",
       "      <td>4109.31</td>\n",
       "      <td>105.5076</td>\n",
       "      <td>646.76</td>\n",
       "      <td>75.67</td>\n",
       "      <td>1969.28</td>\n",
       "      <td>24.0990</td>\n",
       "      <td>0.000028</td>\n",
       "      <td>-0.022095</td>\n",
       "      <td>9003.50</td>\n",
       "      <td>-0.000574</td>\n",
       "      <td>8998.337436</td>\n",
       "      <td>8806.75</td>\n",
       "      <td>191.5874</td>\n",
       "      <td>0.021755</td>\n",
       "      <td>-5.16</td>\n",
       "      <td>-196.75</td>\n",
       "    </tr>\n",
       "    <tr>\n",
       "      <th>...</th>\n",
       "      <td>...</td>\n",
       "      <td>...</td>\n",
       "      <td>...</td>\n",
       "      <td>...</td>\n",
       "      <td>...</td>\n",
       "      <td>...</td>\n",
       "      <td>...</td>\n",
       "      <td>...</td>\n",
       "      <td>...</td>\n",
       "      <td>...</td>\n",
       "      <td>...</td>\n",
       "      <td>...</td>\n",
       "      <td>...</td>\n",
       "      <td>...</td>\n",
       "      <td>...</td>\n",
       "      <td>...</td>\n",
       "      <td>...</td>\n",
       "      <td>...</td>\n",
       "      <td>...</td>\n",
       "      <td>...</td>\n",
       "    </tr>\n",
       "    <tr>\n",
       "      <th>270</th>\n",
       "      <td>4/8/2024</td>\n",
       "      <td>9411.5</td>\n",
       "      <td>104.14</td>\n",
       "      <td>29505</td>\n",
       "      <td>5202.39</td>\n",
       "      <td>102.9183</td>\n",
       "      <td>778.04</td>\n",
       "      <td>86.43</td>\n",
       "      <td>2339.03</td>\n",
       "      <td>27.8505</td>\n",
       "      <td>0.007897</td>\n",
       "      <td>0.023212</td>\n",
       "      <td>9281.51</td>\n",
       "      <td>0.001946</td>\n",
       "      <td>9299.591504</td>\n",
       "      <td>9333.20</td>\n",
       "      <td>33.6085</td>\n",
       "      <td>0.003601</td>\n",
       "      <td>18.08</td>\n",
       "      <td>51.69</td>\n",
       "    </tr>\n",
       "    <tr>\n",
       "      <th>271</th>\n",
       "      <td>4/9/2024</td>\n",
       "      <td>9417.5</td>\n",
       "      <td>104.15</td>\n",
       "      <td>29607</td>\n",
       "      <td>5209.91</td>\n",
       "      <td>102.8042</td>\n",
       "      <td>779.23</td>\n",
       "      <td>85.23</td>\n",
       "      <td>2352.78</td>\n",
       "      <td>28.1520</td>\n",
       "      <td>0.000161</td>\n",
       "      <td>0.007737</td>\n",
       "      <td>9283.00</td>\n",
       "      <td>0.008118</td>\n",
       "      <td>9358.664395</td>\n",
       "      <td>9499.47</td>\n",
       "      <td>9358.6644</td>\n",
       "      <td>0.014822</td>\n",
       "      <td>75.66</td>\n",
       "      <td>-9283.00</td>\n",
       "    </tr>\n",
       "    <tr>\n",
       "      <th>272</th>\n",
       "      <td>4/10/2024</td>\n",
       "      <td>9374.0</td>\n",
       "      <td>105.25</td>\n",
       "      <td>29285</td>\n",
       "      <td>5160.64</td>\n",
       "      <td>102.8709</td>\n",
       "      <td>772.78</td>\n",
       "      <td>86.21</td>\n",
       "      <td>2334.04</td>\n",
       "      <td>27.9481</td>\n",
       "      <td>-0.004594</td>\n",
       "      <td>0.026616</td>\n",
       "      <td>9240.45</td>\n",
       "      <td>0.015452</td>\n",
       "      <td>9384.342986</td>\n",
       "      <td>9355.10</td>\n",
       "      <td>9384.3430</td>\n",
       "      <td>0.003126</td>\n",
       "      <td>143.89</td>\n",
       "      <td>-9240.45</td>\n",
       "    </tr>\n",
       "    <tr>\n",
       "      <th>273</th>\n",
       "      <td>4/11/2024</td>\n",
       "      <td>9342.0</td>\n",
       "      <td>105.28</td>\n",
       "      <td>29173</td>\n",
       "      <td>5199.06</td>\n",
       "      <td>102.3493</td>\n",
       "      <td>774.88</td>\n",
       "      <td>85.02</td>\n",
       "      <td>2372.52</td>\n",
       "      <td>28.4437</td>\n",
       "      <td>-0.003312</td>\n",
       "      <td>0.046886</td>\n",
       "      <td>9209.90</td>\n",
       "      <td>0.017096</td>\n",
       "      <td>9368.708080</td>\n",
       "      <td>9489.70</td>\n",
       "      <td>9368.7081</td>\n",
       "      <td>0.012750</td>\n",
       "      <td>158.81</td>\n",
       "      <td>-9209.90</td>\n",
       "    </tr>\n",
       "    <tr>\n",
       "      <th>274</th>\n",
       "      <td>4/12/2024</td>\n",
       "      <td>9457.5</td>\n",
       "      <td>106.04</td>\n",
       "      <td>28998</td>\n",
       "      <td>5123.41</td>\n",
       "      <td>102.9251</td>\n",
       "      <td>765.67</td>\n",
       "      <td>85.66</td>\n",
       "      <td>2344.37</td>\n",
       "      <td>27.8773</td>\n",
       "      <td>0.013299</td>\n",
       "      <td>0.048523</td>\n",
       "      <td>9333.20</td>\n",
       "      <td>0.013884</td>\n",
       "      <td>9463.690476</td>\n",
       "      <td>9652.00</td>\n",
       "      <td>9463.6905</td>\n",
       "      <td>0.019510</td>\n",
       "      <td>130.49</td>\n",
       "      <td>-9333.20</td>\n",
       "    </tr>\n",
       "  </tbody>\n",
       "</table>\n",
       "<p>275 rows × 20 columns</p>\n",
       "</div>"
      ],
      "text/plain": [
       "          Date  LMCADS03     DXY  COMXCOPR      SPX      BCOM    MXWD    CL1  \\\n",
       "0    3/27/2023    8964.0  102.86     15400  3977.53  103.7487  626.52  72.81   \n",
       "1    3/28/2023    8978.0  102.43     15624  3971.27  104.3620  627.48  73.20   \n",
       "2    3/29/2023    9002.5  102.64     16027  4027.81  104.1591  635.30  72.97   \n",
       "3    3/30/2023    9001.0  102.14     16278  4050.83  104.3921  639.89  74.37   \n",
       "4    3/31/2023    8993.0  102.51     16543  4109.31  105.5076  646.76  75.67   \n",
       "..         ...       ...     ...       ...      ...       ...     ...    ...   \n",
       "270   4/8/2024    9411.5  104.14     29505  5202.39  102.9183  778.04  86.43   \n",
       "271   4/9/2024    9417.5  104.15     29607  5209.91  102.8042  779.23  85.23   \n",
       "272  4/10/2024    9374.0  105.25     29285  5160.64  102.8709  772.78  86.21   \n",
       "273  4/11/2024    9342.0  105.28     29173  5199.06  102.3493  774.88  85.02   \n",
       "274  4/12/2024    9457.5  106.04     28998  5123.41  102.9251  765.67  85.66   \n",
       "\n",
       "         XAU      XAG  LMCADY RETURN  True Values   LMCADY  Predictions  \\\n",
       "0    1956.67  23.0810       0.004423    -0.003834  8951.25     0.002039   \n",
       "1    1973.54  23.3340       0.001897    -0.025752  8968.25     0.003347   \n",
       "2    1964.70  23.3350       0.004506    -0.025179  9008.75     0.002670   \n",
       "3    1980.37  23.9030      -0.000611    -0.022067  9003.25     0.000124   \n",
       "4    1969.28  24.0990       0.000028    -0.022095  9003.50    -0.000574   \n",
       "..       ...      ...            ...          ...      ...          ...   \n",
       "270  2339.03  27.8505       0.007897     0.023212  9281.51     0.001946   \n",
       "271  2352.78  28.1520       0.000161     0.007737  9283.00     0.008118   \n",
       "272  2334.04  27.9481      -0.004594     0.026616  9240.45     0.015452   \n",
       "273  2372.52  28.4437      -0.003312     0.046886  9209.90     0.017096   \n",
       "274  2344.37  27.8773       0.013299     0.048523  9333.20     0.013884   \n",
       "\n",
       "     PREDICTED PRICE  ACTUAL FUTURE PRICE      ERROR    ERROR%  XPCD_CHG  \\\n",
       "0        8969.515820              9003.50    33.9842  0.003775     18.27   \n",
       "1        8998.317366              8917.00    81.3174  0.009119     30.07   \n",
       "2        9032.835757              8740.25   292.5858  0.033476     24.09   \n",
       "3        9004.369197              8784.75   219.6192  0.025000      1.12   \n",
       "4        8998.337436              8806.75   191.5874  0.021755     -5.16   \n",
       "..               ...                  ...        ...       ...       ...   \n",
       "270      9299.591504              9333.20    33.6085  0.003601     18.08   \n",
       "271      9358.664395              9499.47  9358.6644  0.014822     75.66   \n",
       "272      9384.342986              9355.10  9384.3430  0.003126    143.89   \n",
       "273      9368.708080              9489.70  9368.7081  0.012750    158.81   \n",
       "274      9463.690476              9652.00  9463.6905  0.019510    130.49   \n",
       "\n",
       "     ACT_CHG  \n",
       "0      52.25  \n",
       "1     -51.25  \n",
       "2    -268.50  \n",
       "3    -218.50  \n",
       "4    -196.75  \n",
       "..       ...  \n",
       "270    51.69  \n",
       "271 -9283.00  \n",
       "272 -9240.45  \n",
       "273 -9209.90  \n",
       "274 -9333.20  \n",
       "\n",
       "[275 rows x 20 columns]"
      ]
     },
     "execution_count": 18,
     "metadata": {},
     "output_type": "execute_result"
    }
   ],
   "source": [
    "df = read_prediction_file(\"./input/strat_v1.csv\")\n",
    "df"
   ]
  },
  {
   "cell_type": "code",
   "execution_count": 19,
   "metadata": {},
   "outputs": [],
   "source": [
    "df['op'] = \"\""
   ]
  },
  {
   "cell_type": "code",
   "execution_count": 20,
   "metadata": {},
   "outputs": [
    {
     "name": "stdout",
     "output_type": "stream",
     "text": [
      "Test std: 0.022042\n"
     ]
    }
   ],
   "source": [
    "# calculate true values std deviation\n",
    "true_values_std = df[\"True Values\"].std()\n",
    "print(\"Test std: {:.6f}\".format(true_values_std))"
   ]
  },
  {
   "cell_type": "code",
   "execution_count": 21,
   "metadata": {},
   "outputs": [
    {
     "name": "stdout",
     "output_type": "stream",
     "text": [
      "RMSE: 0.021314\n"
     ]
    }
   ],
   "source": [
    "# calculate rmse using true values and predictions\n",
    "def calculate_rmse(true_values, predictions):\n",
    "    return np.sqrt(np.mean((true_values - predictions)**2))\n",
    "\n",
    "rmse = calculate_rmse(df[\"True Values\"], df[\"Predictions\"])\n",
    "print(\"RMSE: {:.6f}\".format(rmse))"
   ]
  },
  {
   "cell_type": "code",
   "execution_count": 26,
   "metadata": {},
   "outputs": [],
   "source": [
    "def plot_predictions(y_true, y_pred, n=-1, title=\"Prediction vs Actual Data\", markersize=3, rmse=None, df = None, mt = 1):\n",
    "    if n != -1:\n",
    "        n = min(n, len(y_true), len(y_pred))\n",
    "\n",
    "        y_true = y_true[-n:]\n",
    "        y_pred = y_pred[-n:]\n",
    "\n",
    "    plt.figure(figsize=(18, 2.5))\n",
    "    plt.plot(y_true, label='Actual Values', marker='o', linestyle='-', markersize=markersize)\n",
    "\n",
    "    prof_acum = 0.0\n",
    "\n",
    "    # Plot the RMSE lines if rmse is provided\n",
    "    if rmse is not None:\n",
    "        plt.axhline(y= rmse, color='green', linestyle='--', linewidth=0.7)\n",
    "        plt.axhline(y=-rmse, color='green', linestyle='--', linewidth=0.7)\n",
    "\n",
    "        tot_pred = 0\n",
    "        prof = 0\n",
    "        loss = 0\n",
    "\n",
    "        j = 0\n",
    "\n",
    "        # plot green markers beyond the rmse range\n",
    "        for i in range(len(y_pred)):\n",
    "            if (y_pred[i] > rmse or y_pred[i] < - rmse): # situacion\n",
    "                # print(\"{} {}\".format(y_pred[i],y_true[i]))\n",
    "                print(\"{}) {} - Variación significativa {:.4f}.\".format(j+1,df['Date'][i],y_pred[i]))\n",
    "                # print(\"Precio pactado por Tn métrica: {:,.2f}\".format(df['LMCADY'][i]))\n",
    "                \n",
    "\n",
    "                if (y_true[i] > 0 and y_pred[i] > 0) or (y_true[i] < 0 and y_pred[i] < 0):\n",
    "                    plt.plot(i, y_pred[i], 'gx', markersize=markersize+1)\n",
    "                    \n",
    "                    if (y_true[i] > 0 and y_pred[i] > 0):\n",
    "                        print(\"Precio de COMPRA acordado    : {:,.2f}\".format(df['LMCADY'][i]))\n",
    "                        prof_op = (-df['LMCADY'][i]+df['ACTUAL FUTURE PRICE'][i])*mt\n",
    "                        df.loc[i, \"col\"] = 'BUY'\n",
    "                    if (y_true[i] < 0 and y_pred[i] < 0):\n",
    "                        print(\"Precio de VENTA acordado     : {:,.2f}\".format(df['LMCADY'][i]))\n",
    "                        prof_op = (+df['LMCADY'][i]-df['ACTUAL FUTURE PRICE'][i])*mt\n",
    "                        df.loc[i, \"col\"] = 'SELL'\n",
    "                        # df['op'][i] = 'SLL'\n",
    "\n",
    "                    prof += 1\n",
    "                else:\n",
    "                    plt.plot(i, y_pred[i], 'rx', markersize=markersize+1)\n",
    "                    loss += 1\n",
    "\n",
    "                print(\"Precio futuro pronosticado   : {:,.2f}\".format(df['PREDICTED PRICE'][i]))\n",
    "                print(\"Precio futuro real           : {:,.2f}\".format(df['ACTUAL FUTURE PRICE'][i]))\n",
    "                print(\"Diferencia por operación     : {:,.2f}\".format(prof_op))\n",
    "                prof_acum += prof_op\n",
    "                print(\"Ganancia acumulada: {:,.2f}\".format(prof_acum))\n",
    "                tot_pred += 1\n",
    "                j += 1\n",
    "                print(\"\")\n",
    "            else:\n",
    "                plt.plot(i, y_pred[i], marker='x', color='orange', markersize=markersize-1)\n",
    "            \n",
    "\n",
    "    else:\n",
    "        plt.plot(y_true, label='Actual Values'   , marker='o', linestyle='-' , markersize=markersize)\n",
    "        plt.plot(y_pred, label='Predicted Values', marker='x', linestyle='--', markersize=markersize)\n",
    "\n",
    "    plt.axhline(y=0, color='gray', linestyle='--', linewidth=0.7)\n",
    "\n",
    "    plt.title(title)\n",
    "    plt.xlabel('Index')\n",
    "    plt.ylabel('Value')\n",
    "    plt.legend()\n",
    "    plt.show()\n",
    "\n",
    "    print(\"FINAL ACUM. PROFIT: {:,.2f}\".format(prof_acum))\n",
    "    \n",
    "\n",
    "    return tot_pred, prof, loss"
   ]
  },
  {
   "cell_type": "code",
   "execution_count": 27,
   "metadata": {},
   "outputs": [
    {
     "name": "stdout",
     "output_type": "stream",
     "text": [
      "1) 4/13/2023 - Variación significativa -0.0121.\n",
      "Precio de VENTA acordado     : 9,065.75\n",
      "Precio futuro pronosticado   : 8,957.02\n",
      "Precio futuro real           : 8,947.75\n",
      "Diferencia por operación     : 354.00\n",
      "Ganancia acumulada: 354.00\n",
      "\n",
      "2) 4/14/2023 - Variación significativa -0.0194.\n",
      "Precio de VENTA acordado     : 9,030.25\n",
      "Precio futuro pronosticado   : 8,857.03\n",
      "Precio futuro real           : 8,865.25\n",
      "Diferencia por operación     : 495.00\n",
      "Ganancia acumulada: 849.00\n",
      "\n",
      "3) 4/17/2023 - Variación significativa -0.0145.\n",
      "Precio de VENTA acordado     : 8,962.95\n",
      "Precio futuro pronosticado   : 8,834.17\n",
      "Precio futuro real           : 8,778.50\n",
      "Diferencia por operación     : 553.35\n",
      "Ganancia acumulada: 1,402.35\n",
      "\n",
      "4) 4/18/2023 - Variación significativa -0.0132.\n",
      "Precio de VENTA acordado     : 9,004.40\n",
      "Precio futuro pronosticado   : 8,886.30\n",
      "Precio futuro real           : 8,710.00\n",
      "Diferencia por operación     : 883.20\n",
      "Ganancia acumulada: 2,285.55\n",
      "\n",
      "5) 4/19/2023 - Variación significativa -0.0143.\n",
      "Precio de VENTA acordado     : 8,947.75\n",
      "Precio futuro pronosticado   : 8,820.67\n",
      "Precio futuro real           : 8,506.00\n",
      "Diferencia por operación     : 1,325.25\n",
      "Ganancia acumulada: 3,610.80\n",
      "\n",
      "6) 4/20/2023 - Variación significativa -0.0115.\n",
      "Precio de VENTA acordado     : 8,865.25\n",
      "Precio futuro pronosticado   : 8,763.71\n",
      "Precio futuro real           : 8,535.25\n",
      "Diferencia por operación     : 990.00\n",
      "Ganancia acumulada: 4,600.80\n",
      "\n",
      "7) 5/30/2023 - Variación significativa 0.0123.\n",
      "Precio de COMPRA acordado    : 8,103.00\n",
      "Precio futuro pronosticado   : 8,203.58\n",
      "Precio futuro real           : 8,331.01\n",
      "Diferencia por operación     : 684.03\n",
      "Ganancia acumulada: 5,284.83\n",
      "\n",
      "8) 5/31/2023 - Variación significativa 0.0117.\n",
      "Precio de COMPRA acordado    : 8,070.00\n",
      "Precio futuro pronosticado   : 8,164.64\n",
      "Precio futuro real           : 8,334.00\n",
      "Diferencia por operación     : 792.00\n",
      "Ganancia acumulada: 6,076.83\n",
      "\n",
      "9) 6/1/2023 - Variación significativa 0.0131.\n",
      "Precio de COMPRA acordado    : 8,240.00\n",
      "Precio futuro pronosticado   : 8,348.38\n",
      "Precio futuro real           : 8,292.10\n",
      "Diferencia por operación     : 156.30\n",
      "Ganancia acumulada: 6,233.13\n",
      "\n",
      "10) 8/17/2023 - Variación significativa 0.0118.\n",
      "Precio de COMPRA acordado    : 8,200.85\n",
      "Precio futuro pronosticado   : 8,298.48\n",
      "Precio futuro real           : 8,424.25\n",
      "Diferencia por operación     : 670.20\n",
      "Ganancia acumulada: 6,903.33\n",
      "\n",
      "11) 8/18/2023 - Variación significativa 0.0159.\n",
      "Precio de COMPRA acordado    : 8,213.75\n",
      "Precio futuro pronosticado   : 8,344.98\n",
      "Precio futuro real           : 8,326.50\n",
      "Diferencia por operación     : 338.25\n",
      "Ganancia acumulada: 7,241.58\n",
      "\n",
      "12) 8/21/2023 - Variación significativa 0.0209.\n",
      "Precio de COMPRA acordado    : 8,239.00\n",
      "Precio futuro pronosticado   : 8,412.63\n",
      "Precio futuro real           : 8,319.25\n",
      "Diferencia por operación     : 240.75\n",
      "Ganancia acumulada: 7,482.33\n",
      "\n",
      "13) 8/22/2023 - Variación significativa 0.0206.\n",
      "Precio de COMPRA acordado    : 8,330.70\n",
      "Precio futuro pronosticado   : 8,503.94\n",
      "Precio futuro real           : 8,319.25\n",
      "Diferencia por operación     : -34.35\n",
      "Ganancia acumulada: 7,447.98\n",
      "\n",
      "14) 8/23/2023 - Variación significativa 0.0236.\n",
      "Precio de COMPRA acordado    : 8,424.25\n",
      "Precio futuro pronosticado   : 8,625.05\n",
      "Precio futuro real           : 8,411.00\n",
      "Diferencia por operación     : -39.75\n",
      "Ganancia acumulada: 7,408.23\n",
      "\n",
      "15) 8/24/2023 - Variación significativa 0.0136.\n",
      "Precio de COMPRA acordado    : 8,326.50\n",
      "Precio futuro pronosticado   : 8,440.69\n",
      "Precio futuro real           : 8,445.55\n",
      "Diferencia por operación     : 357.15\n",
      "Ganancia acumulada: 7,765.38\n",
      "\n",
      "16) 8/25/2023 - Variación significativa 0.0167.\n",
      "Precio de COMPRA acordado    : 8,319.25\n",
      "Precio futuro pronosticado   : 8,459.36\n",
      "Precio futuro real           : 8,404.50\n",
      "Diferencia por operación     : 255.75\n",
      "Ganancia acumulada: 8,021.13\n",
      "\n",
      "17) 8/28/2023 - Variación significativa 0.0145.\n",
      "Precio de COMPRA acordado    : 8,319.25\n",
      "Precio futuro pronosticado   : 8,440.63\n",
      "Precio futuro real           : 8,479.25\n",
      "Diferencia por operación     : 480.00\n",
      "Ganancia acumulada: 8,501.13\n",
      "\n",
      "18) 10/2/2023 - Variación significativa 0.0121.\n",
      "Precio de COMPRA acordado    : 7,978.00\n",
      "Precio futuro pronosticado   : 8,075.29\n",
      "Precio futuro real           : 7,971.25\n",
      "Diferencia por operación     : -20.25\n",
      "Ganancia acumulada: 8,480.88\n",
      "\n",
      "19) 10/13/2023 - Variación significativa 0.0167.\n",
      "Precio de COMPRA acordado    : 7,875.81\n",
      "Precio futuro pronosticado   : 8,008.30\n",
      "Precio futuro real           : 7,928.00\n",
      "Diferencia por operación     : 156.57\n",
      "Ganancia acumulada: 8,637.45\n",
      "\n",
      "20) 10/16/2023 - Variación significativa 0.0173.\n",
      "Precio futuro pronosticado   : 8,053.49\n",
      "Precio futuro real           : 7,879.76\n",
      "Diferencia por operación     : 156.57\n",
      "Ganancia acumulada: 8,794.02\n",
      "\n",
      "21) 10/17/2023 - Variación significativa 0.0136.\n",
      "Precio de COMPRA acordado    : 7,902.75\n",
      "Precio futuro pronosticado   : 8,010.97\n",
      "Precio futuro real           : 7,900.76\n",
      "Diferencia por operación     : -5.97\n",
      "Ganancia acumulada: 8,788.05\n",
      "\n",
      "22) 10/18/2023 - Variación significativa 0.0138.\n",
      "Precio de COMPRA acordado    : 7,901.50\n",
      "Precio futuro pronosticado   : 8,011.15\n",
      "Precio futuro real           : 7,985.00\n",
      "Diferencia por operación     : 250.50\n",
      "Ganancia acumulada: 9,038.55\n",
      "\n",
      "23) 10/19/2023 - Variación significativa 0.0162.\n",
      "Precio futuro pronosticado   : 8,057.28\n",
      "Precio futuro real           : 7,958.50\n",
      "Diferencia por operación     : 250.50\n",
      "Ganancia acumulada: 9,289.05\n",
      "\n",
      "24) 10/20/2023 - Variación significativa 0.0170.\n",
      "Precio de COMPRA acordado    : 7,879.76\n",
      "Precio futuro pronosticado   : 8,014.48\n",
      "Precio futuro real           : 7,911.00\n",
      "Diferencia por operación     : 93.72\n",
      "Ganancia acumulada: 9,382.77\n",
      "\n",
      "25) 10/23/2023 - Variación significativa 0.0162.\n",
      "Precio de COMPRA acordado    : 7,900.76\n",
      "Precio futuro pronosticado   : 8,029.88\n",
      "Precio futuro real           : 8,030.00\n",
      "Diferencia por operación     : 387.72\n",
      "Ganancia acumulada: 9,770.49\n",
      "\n",
      "26) 10/24/2023 - Variación significativa 0.0143.\n",
      "Precio de COMPRA acordado    : 7,985.00\n",
      "Precio futuro pronosticado   : 8,099.64\n",
      "Precio futuro real           : 8,068.75\n",
      "Diferencia por operación     : 251.25\n",
      "Ganancia acumulada: 10,021.74\n",
      "\n",
      "27) 11/3/2023 - Variación significativa -0.0128.\n",
      "Precio de VENTA acordado     : 8,095.70\n",
      "Precio futuro pronosticado   : 7,992.58\n",
      "Precio futuro real           : 8,068.11\n",
      "Diferencia por operación     : 82.77\n",
      "Ganancia acumulada: 10,104.51\n",
      "\n",
      "28) 11/23/2023 - Variación significativa 0.0111.\n",
      "Precio de COMPRA acordado    : 8,306.50\n",
      "Precio futuro pronosticado   : 8,399.46\n",
      "Precio futuro real           : 8,336.50\n",
      "Diferencia por operación     : 90.00\n",
      "Ganancia acumulada: 10,194.51\n",
      "\n",
      "29) 12/4/2023 - Variación significativa -0.0126.\n",
      "Precio de VENTA acordado     : 8,362.75\n",
      "Precio futuro pronosticado   : 8,257.67\n",
      "Precio futuro real           : 8,366.25\n",
      "Diferencia por operación     : -10.50\n",
      "Ganancia acumulada: 10,184.01\n",
      "\n",
      "30) 3/6/2024 - Variación significativa 0.0107.\n",
      "Precio de COMPRA acordado    : 8,484.25\n",
      "Precio futuro pronosticado   : 8,575.90\n",
      "Precio futuro real           : 8,560.70\n",
      "Diferencia por operación     : 229.35\n",
      "Ganancia acumulada: 10,413.36\n",
      "\n",
      "31) 3/13/2024 - Variación significativa 0.0113.\n",
      "Precio futuro pronosticado   : 8,933.73\n",
      "Precio futuro real           : 8,870.81\n",
      "Diferencia por operación     : 229.35\n",
      "Ganancia acumulada: 10,642.71\n",
      "\n",
      "32) 4/10/2024 - Variación significativa 0.0155.\n",
      "Precio de COMPRA acordado    : 9,240.45\n",
      "Precio futuro pronosticado   : 9,384.34\n",
      "Precio futuro real           : 9,355.10\n",
      "Diferencia por operación     : 343.95\n",
      "Ganancia acumulada: 10,986.66\n",
      "\n",
      "33) 4/11/2024 - Variación significativa 0.0171.\n",
      "Precio de COMPRA acordado    : 9,209.90\n",
      "Precio futuro pronosticado   : 9,368.71\n",
      "Precio futuro real           : 9,489.70\n",
      "Diferencia por operación     : 839.40\n",
      "Ganancia acumulada: 11,826.06\n",
      "\n",
      "34) 4/12/2024 - Variación significativa 0.0139.\n",
      "Precio de COMPRA acordado    : 9,333.20\n",
      "Precio futuro pronosticado   : 9,463.69\n",
      "Precio futuro real           : 9,652.00\n",
      "Diferencia por operación     : 956.40\n",
      "Ganancia acumulada: 12,782.46\n",
      "\n"
     ]
    },
    {
     "data": {
      "image/png": "[encoded data removed]",
      "text/plain": [
       "<Figure size 1800x250 with 1 Axes>"
      ]
     },
     "metadata": {},
     "output_type": "display_data"
    },
    {
     "name": "stdout",
     "output_type": "stream",
     "text": [
      "FINAL ACUM. PROFIT: 12,782.46\n",
      "Total de predicciones:       34\n",
      "Predicciones correctas:      31\n",
      "Predicciones incorrectas:    3\n"
     ]
    }
   ],
   "source": [
    "tot_pred, prof, loss = plot_predictions(df['True Values'], df['Predictions'], n=-1, title='Prediction vs Actual Data', markersize=3, rmse=rmse*0.5, df = df, mt = 3)\n",
    "print(\"Total de predicciones:       {}\".format(tot_pred))\n",
    "print(\"Predicciones correctas:      {}\".format(prof))\n",
    "print(\"Predicciones incorrectas:    {}\".format(loss))"
   ]
  },
  {
   "cell_type": "code",
   "execution_count": 37,
   "metadata": {},
   "outputs": [
    {
     "data": {
      "application/vnd.plotly.v1+json": {
       "config": {
        "plotlyServerURL": "https://plot.ly"
       },
       "data": [
        {
         "marker": {
          "size": 5
         },
         "mode": "lines",
         "name": "Precio LMCADY",
         "type": "scatter",
         "x": [
          "3/27/2023",
          "3/28/2023",
          "3/29/2023",
          "3/30/2023",
          "3/31/2023",
          "4/3/2023",
          "4/4/2023",
          "4/5/2023",
          "4/6/2023",
          "4/7/2023",
          "4/10/2023",
          "4/11/2023",
          "4/12/2023",
          "4/13/2023",
          "4/14/2023",
          "4/17/2023",
          "4/18/2023",
          "4/19/2023",
          "4/20/2023",
          "4/21/2023",
          "4/24/2023",
          "4/25/2023",
          "4/26/2023",
          "4/27/2023",
          "4/28/2023",
          "5/1/2023",
          "5/2/2023",
          "5/3/2023",
          "5/4/2023",
          "5/5/2023",
          "5/8/2023",
          "5/9/2023",
          "5/10/2023",
          "5/11/2023",
          "5/12/2023",
          "5/15/2023",
          "5/16/2023",
          "5/17/2023",
          "5/18/2023",
          "5/19/2023",
          "5/22/2023",
          "5/23/2023",
          "5/24/2023",
          "5/25/2023",
          "5/26/2023",
          "5/29/2023",
          "5/30/2023",
          "5/31/2023",
          "6/1/2023",
          "6/2/2023",
          "6/5/2023",
          "6/6/2023",
          "6/7/2023",
          "6/8/2023",
          "6/9/2023",
          "6/12/2023",
          "6/13/2023",
          "6/14/2023",
          "6/15/2023",
          "6/16/2023",
          "6/19/2023",
          "6/20/2023",
          "6/21/2023",
          "6/22/2023",
          "6/23/2023",
          "6/26/2023",
          "6/27/2023",
          "6/28/2023",
          "6/29/2023",
          "6/30/2023",
          "7/3/2023",
          "7/4/2023",
          "7/5/2023",
          "7/6/2023",
          "7/7/2023",
          "7/10/2023",
          "7/11/2023",
          "7/12/2023",
          "7/13/2023",
          "7/14/2023",
          "7/17/2023",
          "7/18/2023",
          "7/19/2023",
          "7/20/2023",
          "7/21/2023",
          "7/24/2023",
          "7/25/2023",
          "7/26/2023",
          "7/27/2023",
          "7/28/2023",
          "7/31/2023",
          "8/1/2023",
          "8/2/2023",
          "8/3/2023",
          "8/4/2023",
          "8/7/2023",
          "8/8/2023",
          "8/9/2023",
          "8/10/2023",
          "8/11/2023",
          "8/14/2023",
          "8/15/2023",
          "8/16/2023",
          "8/17/2023",
          "8/18/2023",
          "8/21/2023",
          "8/22/2023",
          "8/23/2023",
          "8/24/2023",
          "8/25/2023",
          "8/28/2023",
          "8/29/2023",
          "8/30/2023",
          "8/31/2023",
          "9/1/2023",
          "9/4/2023",
          "9/5/2023",
          "9/6/2023",
          "9/7/2023",
          "9/8/2023",
          "9/11/2023",
          "9/12/2023",
          "9/13/2023",
          "9/14/2023",
          "9/15/2023",
          "9/18/2023",
          "9/19/2023",
          "9/20/2023",
          "9/21/2023",
          "9/22/2023",
          "9/25/2023",
          "9/26/2023",
          "9/27/2023",
          "9/28/2023",
          "9/29/2023",
          "10/2/2023",
          "10/3/2023",
          "10/4/2023",
          "10/5/2023",
          "10/6/2023",
          "10/9/2023",
          "10/10/2023",
          "10/11/2023",
          "10/12/2023",
          "10/13/2023",
          "10/16/2023",
          "10/17/2023",
          "10/18/2023",
          "10/19/2023",
          "10/20/2023",
          "10/23/2023",
          "10/24/2023",
          "10/25/2023",
          "10/26/2023",
          "10/27/2023",
          "10/30/2023",
          "10/31/2023",
          "11/1/2023",
          "11/2/2023",
          "11/3/2023",
          "11/6/2023",
          "11/7/2023",
          "11/8/2023",
          "11/9/2023",
          "11/10/2023",
          "11/13/2023",
          "11/14/2023",
          "11/15/2023",
          "11/16/2023",
          "11/17/2023",
          "11/20/2023",
          "11/21/2023",
          "11/22/2023",
          "11/23/2023",
          "11/24/2023",
          "11/27/2023",
          "11/28/2023",
          "11/29/2023",
          "11/30/2023",
          "12/1/2023",
          "12/4/2023",
          "12/5/2023",
          "12/6/2023",
          "12/7/2023",
          "12/8/2023",
          "12/11/2023",
          "12/12/2023",
          "12/13/2023",
          "12/14/2023",
          "12/15/2023",
          "12/18/2023",
          "12/19/2023",
          "12/20/2023",
          "12/21/2023",
          "12/22/2023",
          "12/25/2023",
          "12/26/2023",
          "12/27/2023",
          "12/28/2023",
          "12/29/2023",
          "1/1/2024",
          "1/2/2024",
          "1/3/2024",
          "1/4/2024",
          "1/5/2024",
          "1/8/2024",
          "1/9/2024",
          "1/10/2024",
          "1/11/2024",
          "1/12/2024",
          "1/15/2024",
          "1/16/2024",
          "1/17/2024",
          "1/18/2024",
          "1/19/2024",
          "1/22/2024",
          "1/23/2024",
          "1/24/2024",
          "1/25/2024",
          "1/26/2024",
          "1/29/2024",
          "1/30/2024",
          "1/31/2024",
          "2/1/2024",
          "2/2/2024",
          "2/5/2024",
          "2/6/2024",
          "2/7/2024",
          "2/8/2024",
          "2/9/2024",
          "2/12/2024",
          "2/13/2024",
          "2/14/2024",
          "2/15/2024",
          "2/16/2024",
          "2/19/2024",
          "2/20/2024",
          "2/21/2024",
          "2/22/2024",
          "2/23/2024",
          "2/26/2024",
          "2/27/2024",
          "2/28/2024",
          "2/29/2024",
          "3/1/2024",
          "3/4/2024",
          "3/5/2024",
          "3/6/2024",
          "3/7/2024",
          "3/8/2024",
          "3/11/2024",
          "3/12/2024",
          "3/13/2024",
          "3/14/2024",
          "3/15/2024",
          "3/18/2024",
          "3/19/2024",
          "3/20/2024",
          "3/21/2024",
          "3/22/2024",
          "3/25/2024",
          "3/26/2024",
          "3/27/2024",
          "3/28/2024",
          "3/29/2024",
          "4/1/2024",
          "4/2/2024",
          "4/3/2024",
          "4/4/2024",
          "4/5/2024",
          "4/8/2024",
          "4/9/2024",
          "4/10/2024",
          "4/11/2024",
          "4/12/2024"
         ],
         "y": [
          8951.25,
          8968.25,
          9008.75,
          9003.25,
          9003.5,
          8917,
          8740.25,
          8784.75,
          8806.75,
          8806.75,
          8806.75,
          8851.5,
          8916.8,
          9065.75,
          9030.25,
          8962.95,
          9004.4,
          8947.75,
          8865.25,
          8778.5,
          8710,
          8506,
          8535.25,
          8569.5,
          8577,
          8577,
          8490,
          8442.75,
          8474.4,
          8560.25,
          8560.25,
          8562.25,
          8436.25,
          8133.2,
          8222.75,
          8218.25,
          8074.24,
          8262.75,
          8128.48,
          8201,
          8061.53,
          8035.74,
          7851.75,
          7914.75,
          8106,
          8106,
          8103,
          8070,
          8240,
          8233.5,
          8331.01,
          8334,
          8292.1,
          8336,
          8349,
          8282,
          8450,
          8509.25,
          8555.99,
          8555,
          8546,
          8552.25,
          8606.25,
          8579.25,
          8409.24,
          8422,
          8382,
          8259.5,
          8177,
          8322.05,
          8397,
          8346,
          8304,
          8246,
          8360.5,
          8356.49,
          8305,
          8488.75,
          8687,
          8661.75,
          8468,
          8444.99,
          8401.79,
          8460.75,
          8422.5,
          8487.75,
          8641.25,
          8577.25,
          8528,
          8625.49,
          8800,
          8594.25,
          8469.24,
          8570.5,
          8523.25,
          8436.11,
          8303,
          8363.26,
          8348.74,
          8255.6,
          8242.75,
          8143.5,
          8115.25,
          8200.85,
          8213.75,
          8239,
          8330.7,
          8424.25,
          8326.5,
          8319.25,
          8319.25,
          8411,
          8445.55,
          8404.5,
          8479.25,
          8437.25,
          8482.5,
          8358.75,
          8309.25,
          8229,
          8375.5,
          8367.5,
          8397.5,
          8372.25,
          8350.35,
          8299.8,
          8233.5,
          8281.5,
          8129.75,
          8161.74,
          8075.4,
          8034.15,
          8056.5,
          8167.05,
          8212.5,
          7978,
          7929,
          7875,
          7823.75,
          7971.25,
          8039.25,
          7945,
          7946.5,
          7915.75,
          7875.81,
          7915.5,
          7902.75,
          7901.5,
          7928,
          7879.76,
          7900.76,
          7985,
          7958.5,
          7911,
          8030,
          8068.75,
          8029,
          8030,
          8064,
          8095.7,
          8157.74,
          8101,
          8058.5,
          8068.11,
          7954.69,
          8081.25,
          8144,
          8172.25,
          8122,
          8168.2,
          8340.25,
          8353,
          8252.99,
          8306.5,
          8329.75,
          8259.25,
          8387.75,
          8336.5,
          8387.5,
          8538.52,
          8362.75,
          8252.75,
          8201.25,
          8258,
          8366.25,
          8249.1,
          8259.75,
          8237.4,
          8460.51,
          8454.65,
          8393.81,
          8500.5,
          8488.5,
          8508.5,
          8483.5,
          8483.5,
          8483.5,
          8589,
          8530.25,
          8463.92,
          8463.92,
          8440.5,
          8418.5,
          8367.8,
          8361,
          8339.69,
          8263.4,
          8269,
          8262.2,
          8241.2,
          8284,
          8268,
          8174.25,
          8223.8,
          8271.76,
          8254.5,
          8312,
          8472.49,
          8477.5,
          8448.05,
          8455,
          8511.75,
          8500.5,
          8425.5,
          8374.34,
          8247.24,
          8293.25,
          8198.74,
          8085.02,
          8065.04,
          8128.68,
          8155.5,
          8097,
          8223,
          8409.16,
          8353.5,
          8423.99,
          8456.5,
          8499.5,
          8475,
          8361.5,
          8375.25,
          8354.75,
          8401.5,
          8416,
          8455.91,
          8400.75,
          8484.25,
          8546.49,
          8487.27,
          8559.65,
          8560.7,
          8833.46,
          8783.25,
          8968.5,
          8986.11,
          8870.81,
          8818.84,
          8837.66,
          8756.04,
          8757.63,
          8748.47,
          8744.39,
          8766.51,
          8766.51,
          8766.51,
          8888.06,
          9150.56,
          9242.06,
          9208.5,
          9281.51,
          9283,
          9240.45,
          9209.9,
          9333.2
         ]
        },
        {
         "marker": {
          "color": "green",
          "size": 5
         },
         "mode": "markers",
         "name": "BUY",
         "type": "scatter",
         "x": [
          "5/30/2023",
          "5/31/2023",
          "6/1/2023",
          "8/17/2023",
          "8/18/2023",
          "8/21/2023",
          "8/22/2023",
          "8/23/2023",
          "8/24/2023",
          "8/25/2023",
          "8/28/2023",
          "10/2/2023",
          "10/13/2023",
          "10/17/2023",
          "10/18/2023",
          "10/20/2023",
          "10/23/2023",
          "10/24/2023",
          "11/23/2023",
          "3/6/2024",
          "4/10/2024",
          "4/11/2024",
          "4/12/2024"
         ],
         "y": [
          8103,
          8070,
          8240,
          8200.85,
          8213.75,
          8239,
          8330.7,
          8424.25,
          8326.5,
          8319.25,
          8319.25,
          7978,
          7875.81,
          7902.75,
          7901.5,
          7879.76,
          7900.76,
          7985,
          8306.5,
          8484.25,
          9240.45,
          9209.9,
          9333.2
         ]
        },
        {
         "marker": {
          "color": "red",
          "size": 5
         },
         "mode": "markers",
         "name": "SLL",
         "type": "scatter",
         "x": [
          "4/13/2023",
          "4/14/2023",
          "4/17/2023",
          "4/18/2023",
          "4/19/2023",
          "4/20/2023",
          "11/3/2023",
          "12/4/2023"
         ],
         "y": [
          9065.75,
          9030.25,
          8962.95,
          9004.4,
          8947.75,
          8865.25,
          8095.7,
          8362.75
         ]
        }
       ],
       "layout": {
        "template": {
         "data": {
          "bar": [
           {
            "error_x": {
             "color": "#2a3f5f"
            },
            "error_y": {
             "color": "#2a3f5f"
            },
            "marker": {
             "line": {
              "color": "#E5ECF6",
              "width": 0.5
             },
             "pattern": {
              "fillmode": "overlay",
              "size": 10,
              "solidity": 0.2
             }
            },
            "type": "bar"
           }
          ],
          "barpolar": [
           {
            "marker": {
             "line": {
              "color": "#E5ECF6",
              "width": 0.5
             },
             "pattern": {
              "fillmode": "overlay",
              "size": 10,
              "solidity": 0.2
             }
            },
            "type": "barpolar"
           }
          ],
          "carpet": [
           {
            "aaxis": {
             "endlinecolor": "#2a3f5f",
             "gridcolor": "white",
             "linecolor": "white",
             "minorgridcolor": "white",
             "startlinecolor": "#2a3f5f"
            },
            "baxis": {
             "endlinecolor": "#2a3f5f",
             "gridcolor": "white",
             "linecolor": "white",
             "minorgridcolor": "white",
             "startlinecolor": "#2a3f5f"
            },
            "type": "carpet"
           }
          ],
          "choropleth": [
           {
            "colorbar": {
             "outlinewidth": 0,
             "ticks": ""
            },
            "type": "choropleth"
           }
          ],
          "contour": [
           {
            "colorbar": {
             "outlinewidth": 0,
             "ticks": ""
            },
            "colorscale": [
             [
              0,
              "#0d0887"
             ],
             [
              0.1111111111111111,
              "#46039f"
             ],
             [
              0.2222222222222222,
              "#7201a8"
             ],
             [
              0.3333333333333333,
              "#9c179e"
             ],
             [
              0.4444444444444444,
              "#bd3786"
             ],
             [
              0.5555555555555556,
              "#d8576b"
             ],
             [
              0.6666666666666666,
              "#ed7953"
             ],
             [
              0.7777777777777778,
              "#fb9f3a"
             ],
             [
              0.8888888888888888,
              "#fdca26"
             ],
             [
              1,
              "#f0f921"
             ]
            ],
            "type": "contour"
           }
          ],
          "contourcarpet": [
           {
            "colorbar": {
             "outlinewidth": 0,
             "ticks": ""
            },
            "type": "contourcarpet"
           }
          ],
          "heatmap": [
           {
            "colorbar": {
             "outlinewidth": 0,
             "ticks": ""
            },
            "colorscale": [
             [
              0,
              "#0d0887"
             ],
             [
              0.1111111111111111,
              "#46039f"
             ],
             [
              0.2222222222222222,
              "#7201a8"
             ],
             [
              0.3333333333333333,
              "#9c179e"
             ],
             [
              0.4444444444444444,
              "#bd3786"
             ],
             [
              0.5555555555555556,
              "#d8576b"
             ],
             [
              0.6666666666666666,
              "#ed7953"
             ],
             [
              0.7777777777777778,
              "#fb9f3a"
             ],
             [
              0.8888888888888888,
              "#fdca26"
             ],
             [
              1,
              "#f0f921"
             ]
            ],
            "type": "heatmap"
           }
          ],
          "heatmapgl": [
           {
            "colorbar": {
             "outlinewidth": 0,
             "ticks": ""
            },
            "colorscale": [
             [
              0,
              "#0d0887"
             ],
             [
              0.1111111111111111,
              "#46039f"
             ],
             [
              0.2222222222222222,
              "#7201a8"
             ],
             [
              0.3333333333333333,
              "#9c179e"
             ],
             [
              0.4444444444444444,
              "#bd3786"
             ],
             [
              0.5555555555555556,
              "#d8576b"
             ],
             [
              0.6666666666666666,
              "#ed7953"
             ],
             [
              0.7777777777777778,
              "#fb9f3a"
             ],
             [
              0.8888888888888888,
              "#fdca26"
             ],
             [
              1,
              "#f0f921"
             ]
            ],
            "type": "heatmapgl"
           }
          ],
          "histogram": [
           {
            "marker": {
             "pattern": {
              "fillmode": "overlay",
              "size": 10,
              "solidity": 0.2
             }
            },
            "type": "histogram"
           }
          ],
          "histogram2d": [
           {
            "colorbar": {
             "outlinewidth": 0,
             "ticks": ""
            },
            "colorscale": [
             [
              0,
              "#0d0887"
             ],
             [
              0.1111111111111111,
              "#46039f"
             ],
             [
              0.2222222222222222,
              "#7201a8"
             ],
             [
              0.3333333333333333,
              "#9c179e"
             ],
             [
              0.4444444444444444,
              "#bd3786"
             ],
             [
              0.5555555555555556,
              "#d8576b"
             ],
             [
              0.6666666666666666,
              "#ed7953"
             ],
             [
              0.7777777777777778,
              "#fb9f3a"
             ],
             [
              0.8888888888888888,
              "#fdca26"
             ],
             [
              1,
              "#f0f921"
             ]
            ],
            "type": "histogram2d"
           }
          ],
          "histogram2dcontour": [
           {
            "colorbar": {
             "outlinewidth": 0,
             "ticks": ""
            },
            "colorscale": [
             [
              0,
              "#0d0887"
             ],
             [
              0.1111111111111111,
              "#46039f"
             ],
             [
              0.2222222222222222,
              "#7201a8"
             ],
             [
              0.3333333333333333,
              "#9c179e"
             ],
             [
              0.4444444444444444,
              "#bd3786"
             ],
             [
              0.5555555555555556,
              "#d8576b"
             ],
             [
              0.6666666666666666,
              "#ed7953"
             ],
             [
              0.7777777777777778,
              "#fb9f3a"
             ],
             [
              0.8888888888888888,
              "#fdca26"
             ],
             [
              1,
              "#f0f921"
             ]
            ],
            "type": "histogram2dcontour"
           }
          ],
          "mesh3d": [
           {
            "colorbar": {
             "outlinewidth": 0,
             "ticks": ""
            },
            "type": "mesh3d"
           }
          ],
          "parcoords": [
           {
            "line": {
             "colorbar": {
              "outlinewidth": 0,
              "ticks": ""
             }
            },
            "type": "parcoords"
           }
          ],
          "pie": [
           {
            "automargin": true,
            "type": "pie"
           }
          ],
          "scatter": [
           {
            "fillpattern": {
             "fillmode": "overlay",
             "size": 10,
             "solidity": 0.2
            },
            "type": "scatter"
           }
          ],
          "scatter3d": [
           {
            "line": {
             "colorbar": {
              "outlinewidth": 0,
              "ticks": ""
             }
            },
            "marker": {
             "colorbar": {
              "outlinewidth": 0,
              "ticks": ""
             }
            },
            "type": "scatter3d"
           }
          ],
          "scattercarpet": [
           {
            "marker": {
             "colorbar": {
              "outlinewidth": 0,
              "ticks": ""
             }
            },
            "type": "scattercarpet"
           }
          ],
          "scattergeo": [
           {
            "marker": {
             "colorbar": {
              "outlinewidth": 0,
              "ticks": ""
             }
            },
            "type": "scattergeo"
           }
          ],
          "scattergl": [
           {
            "marker": {
             "colorbar": {
              "outlinewidth": 0,
              "ticks": ""
             }
            },
            "type": "scattergl"
           }
          ],
          "scattermapbox": [
           {
            "marker": {
             "colorbar": {
              "outlinewidth": 0,
              "ticks": ""
             }
            },
            "type": "scattermapbox"
           }
          ],
          "scatterpolar": [
           {
            "marker": {
             "colorbar": {
              "outlinewidth": 0,
              "ticks": ""
             }
            },
            "type": "scatterpolar"
           }
          ],
          "scatterpolargl": [
           {
            "marker": {
             "colorbar": {
              "outlinewidth": 0,
              "ticks": ""
             }
            },
            "type": "scatterpolargl"
           }
          ],
          "scatterternary": [
           {
            "marker": {
             "colorbar": {
              "outlinewidth": 0,
              "ticks": ""
             }
            },
            "type": "scatterternary"
           }
          ],
          "surface": [
           {
            "colorbar": {
             "outlinewidth": 0,
             "ticks": ""
            },
            "colorscale": [
             [
              0,
              "#0d0887"
             ],
             [
              0.1111111111111111,
              "#46039f"
             ],
             [
              0.2222222222222222,
              "#7201a8"
             ],
             [
              0.3333333333333333,
              "#9c179e"
             ],
             [
              0.4444444444444444,
              "#bd3786"
             ],
             [
              0.5555555555555556,
              "#d8576b"
             ],
             [
              0.6666666666666666,
              "#ed7953"
             ],
             [
              0.7777777777777778,
              "#fb9f3a"
             ],
             [
              0.8888888888888888,
              "#fdca26"
             ],
             [
              1,
              "#f0f921"
             ]
            ],
            "type": "surface"
           }
          ],
          "table": [
           {
            "cells": {
             "fill": {
              "color": "#EBF0F8"
             },
             "line": {
              "color": "white"
             }
            },
            "header": {
             "fill": {
              "color": "#C8D4E3"
             },
             "line": {
              "color": "white"
             }
            },
            "type": "table"
           }
          ]
         },
         "layout": {
          "annotationdefaults": {
           "arrowcolor": "#2a3f5f",
           "arrowhead": 0,
           "arrowwidth": 1
          },
          "autotypenumbers": "strict",
          "coloraxis": {
           "colorbar": {
            "outlinewidth": 0,
            "ticks": ""
           }
          },
          "colorscale": {
           "diverging": [
            [
             0,
             "#8e0152"
            ],
            [
             0.1,
             "#c51b7d"
            ],
            [
             0.2,
             "#de77ae"
            ],
            [
             0.3,
             "#f1b6da"
            ],
            [
             0.4,
             "#fde0ef"
            ],
            [
             0.5,
             "#f7f7f7"
            ],
            [
             0.6,
             "#e6f5d0"
            ],
            [
             0.7,
             "#b8e186"
            ],
            [
             0.8,
             "#7fbc41"
            ],
            [
             0.9,
             "#4d9221"
            ],
            [
             1,
             "#276419"
            ]
           ],
           "sequential": [
            [
             0,
             "#0d0887"
            ],
            [
             0.1111111111111111,
             "#46039f"
            ],
            [
             0.2222222222222222,
             "#7201a8"
            ],
            [
             0.3333333333333333,
             "#9c179e"
            ],
            [
             0.4444444444444444,
             "#bd3786"
            ],
            [
             0.5555555555555556,
             "#d8576b"
            ],
            [
             0.6666666666666666,
             "#ed7953"
            ],
            [
             0.7777777777777778,
             "#fb9f3a"
            ],
            [
             0.8888888888888888,
             "#fdca26"
            ],
            [
             1,
             "#f0f921"
            ]
           ],
           "sequentialminus": [
            [
             0,
             "#0d0887"
            ],
            [
             0.1111111111111111,
             "#46039f"
            ],
            [
             0.2222222222222222,
             "#7201a8"
            ],
            [
             0.3333333333333333,
             "#9c179e"
            ],
            [
             0.4444444444444444,
             "#bd3786"
            ],
            [
             0.5555555555555556,
             "#d8576b"
            ],
            [
             0.6666666666666666,
             "#ed7953"
            ],
            [
             0.7777777777777778,
             "#fb9f3a"
            ],
            [
             0.8888888888888888,
             "#fdca26"
            ],
            [
             1,
             "#f0f921"
            ]
           ]
          },
          "colorway": [
           "#636efa",
           "#EF553B",
           "#00cc96",
           "#ab63fa",
           "#FFA15A",
           "#19d3f3",
           "#FF6692",
           "#B6E880",
           "#FF97FF",
           "#FECB52"
          ],
          "font": {
           "color": "#2a3f5f"
          },
          "geo": {
           "bgcolor": "white",
           "lakecolor": "white",
           "landcolor": "#E5ECF6",
           "showlakes": true,
           "showland": true,
           "subunitcolor": "white"
          },
          "hoverlabel": {
           "align": "left"
          },
          "hovermode": "closest",
          "mapbox": {
           "style": "light"
          },
          "paper_bgcolor": "white",
          "plot_bgcolor": "#E5ECF6",
          "polar": {
           "angularaxis": {
            "gridcolor": "white",
            "linecolor": "white",
            "ticks": ""
           },
           "bgcolor": "#E5ECF6",
           "radialaxis": {
            "gridcolor": "white",
            "linecolor": "white",
            "ticks": ""
           }
          },
          "scene": {
           "xaxis": {
            "backgroundcolor": "#E5ECF6",
            "gridcolor": "white",
            "gridwidth": 2,
            "linecolor": "white",
            "showbackground": true,
            "ticks": "",
            "zerolinecolor": "white"
           },
           "yaxis": {
            "backgroundcolor": "#E5ECF6",
            "gridcolor": "white",
            "gridwidth": 2,
            "linecolor": "white",
            "showbackground": true,
            "ticks": "",
            "zerolinecolor": "white"
           },
           "zaxis": {
            "backgroundcolor": "#E5ECF6",
            "gridcolor": "white",
            "gridwidth": 2,
            "linecolor": "white",
            "showbackground": true,
            "ticks": "",
            "zerolinecolor": "white"
           }
          },
          "shapedefaults": {
           "line": {
            "color": "#2a3f5f"
           }
          },
          "ternary": {
           "aaxis": {
            "gridcolor": "white",
            "linecolor": "white",
            "ticks": ""
           },
           "baxis": {
            "gridcolor": "white",
            "linecolor": "white",
            "ticks": ""
           },
           "bgcolor": "#E5ECF6",
           "caxis": {
            "gridcolor": "white",
            "linecolor": "white",
            "ticks": ""
           }
          },
          "title": {
           "x": 0.05
          },
          "xaxis": {
           "automargin": true,
           "gridcolor": "white",
           "linecolor": "white",
           "ticks": "",
           "title": {
            "standoff": 15
           },
           "zerolinecolor": "white",
           "zerolinewidth": 2
          },
          "yaxis": {
           "automargin": true,
           "gridcolor": "white",
           "linecolor": "white",
           "ticks": "",
           "title": {
            "standoff": 15
           },
           "zerolinecolor": "white",
           "zerolinewidth": 2
          }
         }
        },
        "title": {
         "text": "Precio LMCADY"
        },
        "xaxis": {
         "dtick": 5,
         "tickangle": 45,
         "tickmode": "linear",
         "title": {
          "text": "Fecha"
         }
        },
        "yaxis": {
         "title": {
          "text": "Precio LMCADY"
         }
        }
       }
      },
      "text/html": [
       "<div>                            <div id=\"6d7fc52e-639d-4c22-a458-d442396230c7\" class=\"plotly-graph-div\" style=\"height:525px; width:100%;\"></div>            <script type=\"text/javascript\">                require([\"plotly\"], function(Plotly) {                    window.PLOTLYENV=window.PLOTLYENV || {};                                    if (document.getElementById(\"6d7fc52e-639d-4c22-a458-d442396230c7\")) {                    Plotly.newPlot(                        \"6d7fc52e-639d-4c22-a458-d442396230c7\",                        [{\"mode\":\"lines\",\"name\":\"Precio LMCADY\",\"x\":[\"3\\u002f27\\u002f2023\",\"3\\u002f28\\u002f2023\",\"3\\u002f29\\u002f2023\",\"3\\u002f30\\u002f2023\",\"3\\u002f31\\u002f2023\",\"4\\u002f3\\u002f2023\",\"4\\u002f4\\u002f2023\",\"4\\u002f5\\u002f2023\",\"4\\u002f6\\u002f2023\",\"4\\u002f7\\u002f2023\",\"4\\u002f10\\u002f2023\",\"4\\u002f11\\u002f2023\",\"4\\u002f12\\u002f2023\",\"4\\u002f13\\u002f2023\",\"4\\u002f14\\u002f2023\",\"4\\u002f17\\u002f2023\",\"4\\u002f18\\u002f2023\",\"4\\u002f19\\u002f2023\",\"4\\u002f20\\u002f2023\",\"4\\u002f21\\u002f2023\",\"4\\u002f24\\u002f2023\",\"4\\u002f25\\u002f2023\",\"4\\u002f26\\u002f2023\",\"4\\u002f27\\u002f2023\",\"4\\u002f28\\u002f2023\",\"5\\u002f1\\u002f2023\",\"5\\u002f2\\u002f2023\",\"5\\u002f3\\u002f2023\",\"5\\u002f4\\u002f2023\",\"5\\u002f5\\u002f2023\",\"5\\u002f8\\u002f2023\",\"5\\u002f9\\u002f2023\",\"5\\u002f10\\u002f2023\",\"5\\u002f11\\u002f2023\",\"5\\u002f12\\u002f2023\",\"5\\u002f15\\u002f2023\",\"5\\u002f16\\u002f2023\",\"5\\u002f17\\u002f2023\",\"5\\u002f18\\u002f2023\",\"5\\u002f19\\u002f2023\",\"5\\u002f22\\u002f2023\",\"5\\u002f23\\u002f2023\",\"5\\u002f24\\u002f2023\",\"5\\u002f25\\u002f2023\",\"5\\u002f26\\u002f2023\",\"5\\u002f29\\u002f2023\",\"5\\u002f30\\u002f2023\",\"5\\u002f31\\u002f2023\",\"6\\u002f1\\u002f2023\",\"6\\u002f2\\u002f2023\",\"6\\u002f5\\u002f2023\",\"6\\u002f6\\u002f2023\",\"6\\u002f7\\u002f2023\",\"6\\u002f8\\u002f2023\",\"6\\u002f9\\u002f2023\",\"6\\u002f12\\u002f2023\",\"6\\u002f13\\u002f2023\",\"6\\u002f14\\u002f2023\",\"6\\u002f15\\u002f2023\",\"6\\u002f16\\u002f2023\",\"6\\u002f19\\u002f2023\",\"6\\u002f20\\u002f2023\",\"6\\u002f21\\u002f2023\",\"6\\u002f22\\u002f2023\",\"6\\u002f23\\u002f2023\",\"6\\u002f26\\u002f2023\",\"6\\u002f27\\u002f2023\",\"6\\u002f28\\u002f2023\",\"6\\u002f29\\u002f2023\",\"6\\u002f30\\u002f2023\",\"7\\u002f3\\u002f2023\",\"7\\u002f4\\u002f2023\",\"7\\u002f5\\u002f2023\",\"7\\u002f6\\u002f2023\",\"7\\u002f7\\u002f2023\",\"7\\u002f10\\u002f2023\",\"7\\u002f11\\u002f2023\",\"7\\u002f12\\u002f2023\",\"7\\u002f13\\u002f2023\",\"7\\u002f14\\u002f2023\",\"7\\u002f17\\u002f2023\",\"7\\u002f18\\u002f2023\",\"7\\u002f19\\u002f2023\",\"7\\u002f20\\u002f2023\",\"7\\u002f21\\u002f2023\",\"7\\u002f24\\u002f2023\",\"7\\u002f25\\u002f2023\",\"7\\u002f26\\u002f2023\",\"7\\u002f27\\u002f2023\",\"7\\u002f28\\u002f2023\",\"7\\u002f31\\u002f2023\",\"8\\u002f1\\u002f2023\",\"8\\u002f2\\u002f2023\",\"8\\u002f3\\u002f2023\",\"8\\u002f4\\u002f2023\",\"8\\u002f7\\u002f2023\",\"8\\u002f8\\u002f2023\",\"8\\u002f9\\u002f2023\",\"8\\u002f10\\u002f2023\",\"8\\u002f11\\u002f2023\",\"8\\u002f14\\u002f2023\",\"8\\u002f15\\u002f2023\",\"8\\u002f16\\u002f2023\",\"8\\u002f17\\u002f2023\",\"8\\u002f18\\u002f2023\",\"8\\u002f21\\u002f2023\",\"8\\u002f22\\u002f2023\",\"8\\u002f23\\u002f2023\",\"8\\u002f24\\u002f2023\",\"8\\u002f25\\u002f2023\",\"8\\u002f28\\u002f2023\",\"8\\u002f29\\u002f2023\",\"8\\u002f30\\u002f2023\",\"8\\u002f31\\u002f2023\",\"9\\u002f1\\u002f2023\",\"9\\u002f4\\u002f2023\",\"9\\u002f5\\u002f2023\",\"9\\u002f6\\u002f2023\",\"9\\u002f7\\u002f2023\",\"9\\u002f8\\u002f2023\",\"9\\u002f11\\u002f2023\",\"9\\u002f12\\u002f2023\",\"9\\u002f13\\u002f2023\",\"9\\u002f14\\u002f2023\",\"9\\u002f15\\u002f2023\",\"9\\u002f18\\u002f2023\",\"9\\u002f19\\u002f2023\",\"9\\u002f20\\u002f2023\",\"9\\u002f21\\u002f2023\",\"9\\u002f22\\u002f2023\",\"9\\u002f25\\u002f2023\",\"9\\u002f26\\u002f2023\",\"9\\u002f27\\u002f2023\",\"9\\u002f28\\u002f2023\",\"9\\u002f29\\u002f2023\",\"10\\u002f2\\u002f2023\",\"10\\u002f3\\u002f2023\",\"10\\u002f4\\u002f2023\",\"10\\u002f5\\u002f2023\",\"10\\u002f6\\u002f2023\",\"10\\u002f9\\u002f2023\",\"10\\u002f10\\u002f2023\",\"10\\u002f11\\u002f2023\",\"10\\u002f12\\u002f2023\",\"10\\u002f13\\u002f2023\",\"10\\u002f16\\u002f2023\",\"10\\u002f17\\u002f2023\",\"10\\u002f18\\u002f2023\",\"10\\u002f19\\u002f2023\",\"10\\u002f20\\u002f2023\",\"10\\u002f23\\u002f2023\",\"10\\u002f24\\u002f2023\",\"10\\u002f25\\u002f2023\",\"10\\u002f26\\u002f2023\",\"10\\u002f27\\u002f2023\",\"10\\u002f30\\u002f2023\",\"10\\u002f31\\u002f2023\",\"11\\u002f1\\u002f2023\",\"11\\u002f2\\u002f2023\",\"11\\u002f3\\u002f2023\",\"11\\u002f6\\u002f2023\",\"11\\u002f7\\u002f2023\",\"11\\u002f8\\u002f2023\",\"11\\u002f9\\u002f2023\",\"11\\u002f10\\u002f2023\",\"11\\u002f13\\u002f2023\",\"11\\u002f14\\u002f2023\",\"11\\u002f15\\u002f2023\",\"11\\u002f16\\u002f2023\",\"11\\u002f17\\u002f2023\",\"11\\u002f20\\u002f2023\",\"11\\u002f21\\u002f2023\",\"11\\u002f22\\u002f2023\",\"11\\u002f23\\u002f2023\",\"11\\u002f24\\u002f2023\",\"11\\u002f27\\u002f2023\",\"11\\u002f28\\u002f2023\",\"11\\u002f29\\u002f2023\",\"11\\u002f30\\u002f2023\",\"12\\u002f1\\u002f2023\",\"12\\u002f4\\u002f2023\",\"12\\u002f5\\u002f2023\",\"12\\u002f6\\u002f2023\",\"12\\u002f7\\u002f2023\",\"12\\u002f8\\u002f2023\",\"12\\u002f11\\u002f2023\",\"12\\u002f12\\u002f2023\",\"12\\u002f13\\u002f2023\",\"12\\u002f14\\u002f2023\",\"12\\u002f15\\u002f2023\",\"12\\u002f18\\u002f2023\",\"12\\u002f19\\u002f2023\",\"12\\u002f20\\u002f2023\",\"12\\u002f21\\u002f2023\",\"12\\u002f22\\u002f2023\",\"12\\u002f25\\u002f2023\",\"12\\u002f26\\u002f2023\",\"12\\u002f27\\u002f2023\",\"12\\u002f28\\u002f2023\",\"12\\u002f29\\u002f2023\",\"1\\u002f1\\u002f2024\",\"1\\u002f2\\u002f2024\",\"1\\u002f3\\u002f2024\",\"1\\u002f4\\u002f2024\",\"1\\u002f5\\u002f2024\",\"1\\u002f8\\u002f2024\",\"1\\u002f9\\u002f2024\",\"1\\u002f10\\u002f2024\",\"1\\u002f11\\u002f2024\",\"1\\u002f12\\u002f2024\",\"1\\u002f15\\u002f2024\",\"1\\u002f16\\u002f2024\",\"1\\u002f17\\u002f2024\",\"1\\u002f18\\u002f2024\",\"1\\u002f19\\u002f2024\",\"1\\u002f22\\u002f2024\",\"1\\u002f23\\u002f2024\",\"1\\u002f24\\u002f2024\",\"1\\u002f25\\u002f2024\",\"1\\u002f26\\u002f2024\",\"1\\u002f29\\u002f2024\",\"1\\u002f30\\u002f2024\",\"1\\u002f31\\u002f2024\",\"2\\u002f1\\u002f2024\",\"2\\u002f2\\u002f2024\",\"2\\u002f5\\u002f2024\",\"2\\u002f6\\u002f2024\",\"2\\u002f7\\u002f2024\",\"2\\u002f8\\u002f2024\",\"2\\u002f9\\u002f2024\",\"2\\u002f12\\u002f2024\",\"2\\u002f13\\u002f2024\",\"2\\u002f14\\u002f2024\",\"2\\u002f15\\u002f2024\",\"2\\u002f16\\u002f2024\",\"2\\u002f19\\u002f2024\",\"2\\u002f20\\u002f2024\",\"2\\u002f21\\u002f2024\",\"2\\u002f22\\u002f2024\",\"2\\u002f23\\u002f2024\",\"2\\u002f26\\u002f2024\",\"2\\u002f27\\u002f2024\",\"2\\u002f28\\u002f2024\",\"2\\u002f29\\u002f2024\",\"3\\u002f1\\u002f2024\",\"3\\u002f4\\u002f2024\",\"3\\u002f5\\u002f2024\",\"3\\u002f6\\u002f2024\",\"3\\u002f7\\u002f2024\",\"3\\u002f8\\u002f2024\",\"3\\u002f11\\u002f2024\",\"3\\u002f12\\u002f2024\",\"3\\u002f13\\u002f2024\",\"3\\u002f14\\u002f2024\",\"3\\u002f15\\u002f2024\",\"3\\u002f18\\u002f2024\",\"3\\u002f19\\u002f2024\",\"3\\u002f20\\u002f2024\",\"3\\u002f21\\u002f2024\",\"3\\u002f22\\u002f2024\",\"3\\u002f25\\u002f2024\",\"3\\u002f26\\u002f2024\",\"3\\u002f27\\u002f2024\",\"3\\u002f28\\u002f2024\",\"3\\u002f29\\u002f2024\",\"4\\u002f1\\u002f2024\",\"4\\u002f2\\u002f2024\",\"4\\u002f3\\u002f2024\",\"4\\u002f4\\u002f2024\",\"4\\u002f5\\u002f2024\",\"4\\u002f8\\u002f2024\",\"4\\u002f9\\u002f2024\",\"4\\u002f10\\u002f2024\",\"4\\u002f11\\u002f2024\",\"4\\u002f12\\u002f2024\"],\"y\":[8951.25,8968.25,9008.75,9003.25,9003.5,8917.0,8740.25,8784.75,8806.75,8806.75,8806.75,8851.5,8916.8,9065.75,9030.25,8962.95,9004.4,8947.75,8865.25,8778.5,8710.0,8506.0,8535.25,8569.5,8577.0,8577.0,8490.0,8442.75,8474.4,8560.25,8560.25,8562.25,8436.25,8133.2,8222.75,8218.25,8074.24,8262.75,8128.48,8201.0,8061.53,8035.74,7851.75,7914.75,8106.0,8106.0,8103.0,8070.0,8240.0,8233.5,8331.01,8334.0,8292.1,8336.0,8349.0,8282.0,8450.0,8509.25,8555.99,8555.0,8546.0,8552.25,8606.25,8579.25,8409.24,8422.0,8382.0,8259.5,8177.0,8322.05,8397.0,8346.0,8304.0,8246.0,8360.5,8356.49,8305.0,8488.75,8687.0,8661.75,8468.0,8444.99,8401.79,8460.75,8422.5,8487.75,8641.25,8577.25,8528.0,8625.49,8800.0,8594.25,8469.24,8570.5,8523.25,8436.11,8303.0,8363.26,8348.74,8255.6,8242.75,8143.5,8115.25,8200.85,8213.75,8239.0,8330.7,8424.25,8326.5,8319.25,8319.25,8411.0,8445.55,8404.5,8479.25,8437.25,8482.5,8358.75,8309.25,8229.0,8375.5,8367.5,8397.5,8372.25,8350.35,8299.8,8233.5,8281.5,8129.75,8161.74,8075.4,8034.15,8056.5,8167.05,8212.5,7978.0,7929.0,7875.0,7823.75,7971.25,8039.25,7945.0,7946.5,7915.75,7875.81,7915.5,7902.75,7901.5,7928.0,7879.76,7900.76,7985.0,7958.5,7911.0,8030.0,8068.75,8029.0,8030.0,8064.0,8095.7,8157.74,8101.0,8058.5,8068.11,7954.69,8081.25,8144.0,8172.25,8122.0,8168.2,8340.25,8353.0,8252.99,8306.5,8329.75,8259.25,8387.75,8336.5,8387.5,8538.52,8362.75,8252.75,8201.25,8258.0,8366.25,8249.1,8259.75,8237.4,8460.51,8454.65,8393.81,8500.5,8488.5,8508.5,8483.5,8483.5,8483.5,8589.0,8530.25,8463.92,8463.92,8440.5,8418.5,8367.8,8361.0,8339.69,8263.4,8269.0,8262.2,8241.2,8284.0,8268.0,8174.25,8223.8,8271.76,8254.5,8312.0,8472.49,8477.5,8448.05,8455.0,8511.75,8500.5,8425.5,8374.34,8247.24,8293.25,8198.74,8085.02,8065.04,8128.68,8155.5,8097.0,8223.0,8409.16,8353.5,8423.99,8456.5,8499.5,8475.0,8361.5,8375.25,8354.75,8401.5,8416.0,8455.91,8400.75,8484.25,8546.49,8487.27,8559.65,8560.7,8833.46,8783.25,8968.5,8986.11,8870.81,8818.84,8837.66,8756.04,8757.63,8748.47,8744.39,8766.51,8766.51,8766.51,8888.06,9150.56,9242.06,9208.5,9281.51,9283.0,9240.45,9209.9,9333.2],\"type\":\"scatter\",\"marker\":{\"size\":5}},{\"marker\":{\"color\":\"green\",\"size\":5},\"mode\":\"markers\",\"name\":\"BUY\",\"x\":[\"5\\u002f30\\u002f2023\",\"5\\u002f31\\u002f2023\",\"6\\u002f1\\u002f2023\",\"8\\u002f17\\u002f2023\",\"8\\u002f18\\u002f2023\",\"8\\u002f21\\u002f2023\",\"8\\u002f22\\u002f2023\",\"8\\u002f23\\u002f2023\",\"8\\u002f24\\u002f2023\",\"8\\u002f25\\u002f2023\",\"8\\u002f28\\u002f2023\",\"10\\u002f2\\u002f2023\",\"10\\u002f13\\u002f2023\",\"10\\u002f17\\u002f2023\",\"10\\u002f18\\u002f2023\",\"10\\u002f20\\u002f2023\",\"10\\u002f23\\u002f2023\",\"10\\u002f24\\u002f2023\",\"11\\u002f23\\u002f2023\",\"3\\u002f6\\u002f2024\",\"4\\u002f10\\u002f2024\",\"4\\u002f11\\u002f2024\",\"4\\u002f12\\u002f2024\"],\"y\":[8103.0,8070.0,8240.0,8200.85,8213.75,8239.0,8330.7,8424.25,8326.5,8319.25,8319.25,7978.0,7875.81,7902.75,7901.5,7879.76,7900.76,7985.0,8306.5,8484.25,9240.45,9209.9,9333.2],\"type\":\"scatter\"},{\"marker\":{\"color\":\"red\",\"size\":5},\"mode\":\"markers\",\"name\":\"SLL\",\"x\":[\"4\\u002f13\\u002f2023\",\"4\\u002f14\\u002f2023\",\"4\\u002f17\\u002f2023\",\"4\\u002f18\\u002f2023\",\"4\\u002f19\\u002f2023\",\"4\\u002f20\\u002f2023\",\"11\\u002f3\\u002f2023\",\"12\\u002f4\\u002f2023\"],\"y\":[9065.75,9030.25,8962.95,9004.4,8947.75,8865.25,8095.7,8362.75],\"type\":\"scatter\"}],                        {\"template\":{\"data\":{\"histogram2dcontour\":[{\"type\":\"histogram2dcontour\",\"colorbar\":{\"outlinewidth\":0,\"ticks\":\"\"},\"colorscale\":[[0.0,\"#0d0887\"],[0.1111111111111111,\"#46039f\"],[0.2222222222222222,\"#7201a8\"],[0.3333333333333333,\"#9c179e\"],[0.4444444444444444,\"#bd3786\"],[0.5555555555555556,\"#d8576b\"],[0.6666666666666666,\"#ed7953\"],[0.7777777777777778,\"#fb9f3a\"],[0.8888888888888888,\"#fdca26\"],[1.0,\"#f0f921\"]]}],\"choropleth\":[{\"type\":\"choropleth\",\"colorbar\":{\"outlinewidth\":0,\"ticks\":\"\"}}],\"histogram2d\":[{\"type\":\"histogram2d\",\"colorbar\":{\"outlinewidth\":0,\"ticks\":\"\"},\"colorscale\":[[0.0,\"#0d0887\"],[0.1111111111111111,\"#46039f\"],[0.2222222222222222,\"#7201a8\"],[0.3333333333333333,\"#9c179e\"],[0.4444444444444444,\"#bd3786\"],[0.5555555555555556,\"#d8576b\"],[0.6666666666666666,\"#ed7953\"],[0.7777777777777778,\"#fb9f3a\"],[0.8888888888888888,\"#fdca26\"],[1.0,\"#f0f921\"]]}],\"heatmap\":[{\"type\":\"heatmap\",\"colorbar\":{\"outlinewidth\":0,\"ticks\":\"\"},\"colorscale\":[[0.0,\"#0d0887\"],[0.1111111111111111,\"#46039f\"],[0.2222222222222222,\"#7201a8\"],[0.3333333333333333,\"#9c179e\"],[0.4444444444444444,\"#bd3786\"],[0.5555555555555556,\"#d8576b\"],[0.6666666666666666,\"#ed7953\"],[0.7777777777777778,\"#fb9f3a\"],[0.8888888888888888,\"#fdca26\"],[1.0,\"#f0f921\"]]}],\"heatmapgl\":[{\"type\":\"heatmapgl\",\"colorbar\":{\"outlinewidth\":0,\"ticks\":\"\"},\"colorscale\":[[0.0,\"#0d0887\"],[0.1111111111111111,\"#46039f\"],[0.2222222222222222,\"#7201a8\"],[0.3333333333333333,\"#9c179e\"],[0.4444444444444444,\"#bd3786\"],[0.5555555555555556,\"#d8576b\"],[0.6666666666666666,\"#ed7953\"],[0.7777777777777778,\"#fb9f3a\"],[0.8888888888888888,\"#fdca26\"],[1.0,\"#f0f921\"]]}],\"contourcarpet\":[{\"type\":\"contourcarpet\",\"colorbar\":{\"outlinewidth\":0,\"ticks\":\"\"}}],\"contour\":[{\"type\":\"contour\",\"colorbar\":{\"outlinewidth\":0,\"ticks\":\"\"},\"colorscale\":[[0.0,\"#0d0887\"],[0.1111111111111111,\"#46039f\"],[0.2222222222222222,\"#7201a8\"],[0.3333333333333333,\"#9c179e\"],[0.4444444444444444,\"#bd3786\"],[0.5555555555555556,\"#d8576b\"],[0.6666666666666666,\"#ed7953\"],[0.7777777777777778,\"#fb9f3a\"],[0.8888888888888888,\"#fdca26\"],[1.0,\"#f0f921\"]]}],\"surface\":[{\"type\":\"surface\",\"colorbar\":{\"outlinewidth\":0,\"ticks\":\"\"},\"colorscale\":[[0.0,\"#0d0887\"],[0.1111111111111111,\"#46039f\"],[0.2222222222222222,\"#7201a8\"],[0.3333333333333333,\"#9c179e\"],[0.4444444444444444,\"#bd3786\"],[0.5555555555555556,\"#d8576b\"],[0.6666666666666666,\"#ed7953\"],[0.7777777777777778,\"#fb9f3a\"],[0.8888888888888888,\"#fdca26\"],[1.0,\"#f0f921\"]]}],\"mesh3d\":[{\"type\":\"mesh3d\",\"colorbar\":{\"outlinewidth\":0,\"ticks\":\"\"}}],\"scatter\":[{\"fillpattern\":{\"fillmode\":\"overlay\",\"size\":10,\"solidity\":0.2},\"type\":\"scatter\"}],\"parcoords\":[{\"type\":\"parcoords\",\"line\":{\"colorbar\":{\"outlinewidth\":0,\"ticks\":\"\"}}}],\"scatterpolargl\":[{\"type\":\"scatterpolargl\",\"marker\":{\"colorbar\":{\"outlinewidth\":0,\"ticks\":\"\"}}}],\"bar\":[{\"error_x\":{\"color\":\"#2a3f5f\"},\"error_y\":{\"color\":\"#2a3f5f\"},\"marker\":{\"line\":{\"color\":\"#E5ECF6\",\"width\":0.5},\"pattern\":{\"fillmode\":\"overlay\",\"size\":10,\"solidity\":0.2}},\"type\":\"bar\"}],\"scattergeo\":[{\"type\":\"scattergeo\",\"marker\":{\"colorbar\":{\"outlinewidth\":0,\"ticks\":\"\"}}}],\"scatterpolar\":[{\"type\":\"scatterpolar\",\"marker\":{\"colorbar\":{\"outlinewidth\":0,\"ticks\":\"\"}}}],\"histogram\":[{\"marker\":{\"pattern\":{\"fillmode\":\"overlay\",\"size\":10,\"solidity\":0.2}},\"type\":\"histogram\"}],\"scattergl\":[{\"type\":\"scattergl\",\"marker\":{\"colorbar\":{\"outlinewidth\":0,\"ticks\":\"\"}}}],\"scatter3d\":[{\"type\":\"scatter3d\",\"line\":{\"colorbar\":{\"outlinewidth\":0,\"ticks\":\"\"}},\"marker\":{\"colorbar\":{\"outlinewidth\":0,\"ticks\":\"\"}}}],\"scattermapbox\":[{\"type\":\"scattermapbox\",\"marker\":{\"colorbar\":{\"outlinewidth\":0,\"ticks\":\"\"}}}],\"scatterternary\":[{\"type\":\"scatterternary\",\"marker\":{\"colorbar\":{\"outlinewidth\":0,\"ticks\":\"\"}}}],\"scattercarpet\":[{\"type\":\"scattercarpet\",\"marker\":{\"colorbar\":{\"outlinewidth\":0,\"ticks\":\"\"}}}],\"carpet\":[{\"aaxis\":{\"endlinecolor\":\"#2a3f5f\",\"gridcolor\":\"white\",\"linecolor\":\"white\",\"minorgridcolor\":\"white\",\"startlinecolor\":\"#2a3f5f\"},\"baxis\":{\"endlinecolor\":\"#2a3f5f\",\"gridcolor\":\"white\",\"linecolor\":\"white\",\"minorgridcolor\":\"white\",\"startlinecolor\":\"#2a3f5f\"},\"type\":\"carpet\"}],\"table\":[{\"cells\":{\"fill\":{\"color\":\"#EBF0F8\"},\"line\":{\"color\":\"white\"}},\"header\":{\"fill\":{\"color\":\"#C8D4E3\"},\"line\":{\"color\":\"white\"}},\"type\":\"table\"}],\"barpolar\":[{\"marker\":{\"line\":{\"color\":\"#E5ECF6\",\"width\":0.5},\"pattern\":{\"fillmode\":\"overlay\",\"size\":10,\"solidity\":0.2}},\"type\":\"barpolar\"}],\"pie\":[{\"automargin\":true,\"type\":\"pie\"}]},\"layout\":{\"autotypenumbers\":\"strict\",\"colorway\":[\"#636efa\",\"#EF553B\",\"#00cc96\",\"#ab63fa\",\"#FFA15A\",\"#19d3f3\",\"#FF6692\",\"#B6E880\",\"#FF97FF\",\"#FECB52\"],\"font\":{\"color\":\"#2a3f5f\"},\"hovermode\":\"closest\",\"hoverlabel\":{\"align\":\"left\"},\"paper_bgcolor\":\"white\",\"plot_bgcolor\":\"#E5ECF6\",\"polar\":{\"bgcolor\":\"#E5ECF6\",\"angularaxis\":{\"gridcolor\":\"white\",\"linecolor\":\"white\",\"ticks\":\"\"},\"radialaxis\":{\"gridcolor\":\"white\",\"linecolor\":\"white\",\"ticks\":\"\"}},\"ternary\":{\"bgcolor\":\"#E5ECF6\",\"aaxis\":{\"gridcolor\":\"white\",\"linecolor\":\"white\",\"ticks\":\"\"},\"baxis\":{\"gridcolor\":\"white\",\"linecolor\":\"white\",\"ticks\":\"\"},\"caxis\":{\"gridcolor\":\"white\",\"linecolor\":\"white\",\"ticks\":\"\"}},\"coloraxis\":{\"colorbar\":{\"outlinewidth\":0,\"ticks\":\"\"}},\"colorscale\":{\"sequential\":[[0.0,\"#0d0887\"],[0.1111111111111111,\"#46039f\"],[0.2222222222222222,\"#7201a8\"],[0.3333333333333333,\"#9c179e\"],[0.4444444444444444,\"#bd3786\"],[0.5555555555555556,\"#d8576b\"],[0.6666666666666666,\"#ed7953\"],[0.7777777777777778,\"#fb9f3a\"],[0.8888888888888888,\"#fdca26\"],[1.0,\"#f0f921\"]],\"sequentialminus\":[[0.0,\"#0d0887\"],[0.1111111111111111,\"#46039f\"],[0.2222222222222222,\"#7201a8\"],[0.3333333333333333,\"#9c179e\"],[0.4444444444444444,\"#bd3786\"],[0.5555555555555556,\"#d8576b\"],[0.6666666666666666,\"#ed7953\"],[0.7777777777777778,\"#fb9f3a\"],[0.8888888888888888,\"#fdca26\"],[1.0,\"#f0f921\"]],\"diverging\":[[0,\"#8e0152\"],[0.1,\"#c51b7d\"],[0.2,\"#de77ae\"],[0.3,\"#f1b6da\"],[0.4,\"#fde0ef\"],[0.5,\"#f7f7f7\"],[0.6,\"#e6f5d0\"],[0.7,\"#b8e186\"],[0.8,\"#7fbc41\"],[0.9,\"#4d9221\"],[1,\"#276419\"]]},\"xaxis\":{\"gridcolor\":\"white\",\"linecolor\":\"white\",\"ticks\":\"\",\"title\":{\"standoff\":15},\"zerolinecolor\":\"white\",\"automargin\":true,\"zerolinewidth\":2},\"yaxis\":{\"gridcolor\":\"white\",\"linecolor\":\"white\",\"ticks\":\"\",\"title\":{\"standoff\":15},\"zerolinecolor\":\"white\",\"automargin\":true,\"zerolinewidth\":2},\"scene\":{\"xaxis\":{\"backgroundcolor\":\"#E5ECF6\",\"gridcolor\":\"white\",\"linecolor\":\"white\",\"showbackground\":true,\"ticks\":\"\",\"zerolinecolor\":\"white\",\"gridwidth\":2},\"yaxis\":{\"backgroundcolor\":\"#E5ECF6\",\"gridcolor\":\"white\",\"linecolor\":\"white\",\"showbackground\":true,\"ticks\":\"\",\"zerolinecolor\":\"white\",\"gridwidth\":2},\"zaxis\":{\"backgroundcolor\":\"#E5ECF6\",\"gridcolor\":\"white\",\"linecolor\":\"white\",\"showbackground\":true,\"ticks\":\"\",\"zerolinecolor\":\"white\",\"gridwidth\":2}},\"shapedefaults\":{\"line\":{\"color\":\"#2a3f5f\"}},\"annotationdefaults\":{\"arrowcolor\":\"#2a3f5f\",\"arrowhead\":0,\"arrowwidth\":1},\"geo\":{\"bgcolor\":\"white\",\"landcolor\":\"#E5ECF6\",\"subunitcolor\":\"white\",\"showland\":true,\"showlakes\":true,\"lakecolor\":\"white\"},\"title\":{\"x\":0.05},\"mapbox\":{\"style\":\"light\"}}},\"title\":{\"text\":\"Precio LMCADY\"},\"xaxis\":{\"title\":{\"text\":\"Fecha\"},\"tickangle\":45,\"tickmode\":\"linear\",\"dtick\":5},\"yaxis\":{\"title\":{\"text\":\"Precio LMCADY\"}}},                        {\"responsive\": true}                    ).then(function(){\n",
       "                            \n",
       "var gd = document.getElementById('6d7fc52e-639d-4c22-a458-d442396230c7');\n",
       "var x = new MutationObserver(function (mutations, observer) {{\n",
       "        var display = window.getComputedStyle(gd).display;\n",
       "        if (!display || display === 'none') {{\n",
       "            console.log([gd, 'removed!']);\n",
       "            Plotly.purge(gd);\n",
       "            observer.disconnect();\n",
       "        }}\n",
       "}});\n",
       "\n",
       "// Listen for the removal of the full notebook cells\n",
       "var notebookContainer = gd.closest('#notebook-container');\n",
       "if (notebookContainer) {{\n",
       "    x.observe(notebookContainer, {childList: true});\n",
       "}}\n",
       "\n",
       "// Listen for the clearing of the current output cell\n",
       "var outputEl = gd.closest('.output');\n",
       "if (outputEl) {{\n",
       "    x.observe(outputEl, {childList: true});\n",
       "}}\n",
       "\n",
       "                        })                };                });            </script>        </div>"
      ]
     },
     "metadata": {},
     "output_type": "display_data"
    }
   ],
   "source": [
    "# plot df['LMCADY'] using plotly\n",
    "fig = go.Figure()\n",
    "fig.add_trace(go.Scatter(x=df['Date'], y=df['LMCADY'], mode='lines', name='Precio LMCADY'))\n",
    "# add a point marker for the rows where ['op'] is not \"\"\n",
    "fig.add_trace(go.Scatter(x=df['Date'][df['op'] == 'BUY'], y=df['LMCADY'][df['op'] == 'BUY'], mode='markers', marker=dict(color='green'  , size=10), name='BUY'))\n",
    "fig.add_trace(go.Scatter(x=df['Date'][df['op'] == 'SLL'], y=df['LMCADY'][df['op'] == 'SLL'], mode='markers', marker=dict(color='red'    , size=10), name='SLL'))\n",
    "\n",
    "# modify marker size\n",
    "fig.update_traces(marker=dict(size=5))\n",
    "\n",
    "fig.update_layout(title='Precio LMCADY', xaxis_title='Fecha', yaxis_title='Precio LMCADY')\n",
    "# make x axis readable and not so frequent\n",
    "fig.update_xaxes(tickangle=45, tickmode='linear', dtick=5)\n",
    "fig.show()\n"
   ]
  }
 ],
 "metadata": {
  "kernelspec": {
   "display_name": "Python 3",
   "language": "python",
   "name": "python3"
  },
  "language_info": {
   "codemirror_mode": {
    "name": "ipython",
    "version": 3
   },
   "file_extension": ".py",
   "mimetype": "text/x-python",
   "name": "python",
   "nbconvert_exporter": "python",
   "pygments_lexer": "ipython3",
   "version": "3.10.12"
  }
 },
 "nbformat": 4,
 "nbformat_minor": 2
}
